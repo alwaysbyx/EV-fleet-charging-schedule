{
 "cells": [
  {
   "cell_type": "code",
   "execution_count": 53,
   "metadata": {},
   "outputs": [],
   "source": [
    "import torch\n",
    "from torch import nn \n",
    "import numpy as np\n",
    "from scipy.special import softmax\n",
    "import random"
   ]
  },
  {
   "cell_type": "code",
   "execution_count": 59,
   "metadata": {},
   "outputs": [
    {
     "name": "stdout",
     "output_type": "stream",
     "text": [
      "[50, 50, 50, 50, 50, 50, 50, 50, 50, 50, 50, 50, 50, 50, 50, 50, 50, 50, 50, 50, 50, 50, 50, 50, 50, 50, 50, 50, 50, 50, 50, 50, 50, 50, 50, 50, 50, 50, 50, 50, 50, 50, 50, 50, 50, 50, 50, 50, 50, 50, 50, 50, 50, 50, 50, 50, 50, 50, 50, 50, 50, 50, 50, 50, 50, 50, 50, 50, 50, 50, 50, 50, 50, 50, 50, 50, 50, 50, 50, 50, 50, 50, 50, 50, 50, 50, 50, 50, 50, 50, 50, 50, 50, 50, 50, 50, 50, 50, 50, 50]\n"
     ]
    },
    {
     "data": {
      "text/plain": [
       "-344.00000000000006"
      ]
     },
     "execution_count": 59,
     "metadata": {},
     "output_type": "execute_result"
    }
   ],
   "source": [
    "x = [100] + [0]*40\n",
    "baseline(np.array(x), s=50, e=90,factor = 0)"
   ]
  },
  {
   "cell_type": "code",
   "execution_count": 57,
   "metadata": {},
   "outputs": [],
   "source": [
    "def arrival2available(x, s, e, total_vehicles=100, num_step=96):\n",
    "    x = softmax(x)\n",
    "    arrival_time = generate_arrival(x)\n",
    "    available_vehicles = [0 for _ in range(num_step)]\n",
    "    arrival_cnt = [arrival_time.count(i) for i in range(num_step)]\n",
    "    for i in range(total_vehicles):\n",
    "        for t in range(arrival_time[i], num_step):\n",
    "            available_vehicles[t] += 1\n",
    "    return available_vehicles, arrival_cnt\n",
    "\n",
    "\n",
    "def baseline(x, s, e, factor=0.05, flag=1):\n",
    "    if flag != 3:\n",
    "        x = softmax(x)\n",
    "        arrival_time = generate_arrival(x, s=s, e=e)\n",
    "    elif flag == 3:\n",
    "        arrival_time = x\n",
    "    print(arrival_time)\n",
    "    dataset = generate_dataset_test(arrival_time)\n",
    "    arrival_time = dataset['arrival_time']\n",
    "    depart_time = dataset['depart_time']\n",
    "    initial_state = dataset['initial_state']\n",
    "    required_energy = dataset['required_energy']\n",
    "    final_energy = dataset['final_energy']\n",
    "    return -ES(factor, arrival_time, depart_time, initial_state, required_energy, final_energy, flag=flag)\n",
    "\n",
    "def generate_arrival(x0, s=31, e=80, total_vehicles=100):\n",
    "    arrival = [idx+s for idx,x in enumerate(x0) for _ in range(int(x*total_vehicles))]\n",
    "    c = total_vehicles - len(arrival)\n",
    "    if c <= 0:\n",
    "        arrival = arrival[:total_vehicles]\n",
    "    else:\n",
    "        x1 = sorted(zip(x0, list(range(len(x0)))), key=lambda x: -x[0]) \n",
    "        idxs = [b for a,b in x1]\n",
    "        while len(idxs) < c and c > 0:\n",
    "            c -= len(idxs)\n",
    "            arrival += list(range(s,e+1))            \n",
    "        if c > 0 and len(idxs) >= c:\n",
    "            arrival += [i+s for i in idxs[:c]]\n",
    "    #print(min(arrival), max(arrival))\n",
    "    return arrival\n",
    "\n",
    "def generate_dataset_test(arrival_time, num_step=96, total_vehicles=100, battery_capacity = 8, lam=12, seed=0, initial_state=None):\n",
    "    np.random.seed(seed)\n",
    "    random.seed(seed)\n",
    "    arrival_time = np.sort(arrival_time)\n",
    "    depart_time = np.ones_like(arrival_time)*num_step\n",
    "    if initial_state == None: # 20~30%\n",
    "        initial_state = np.random.uniform(0.2*8, 0.3*8, size=(total_vehicles,))\n",
    "    else:\n",
    "        initial_state = initial_state\n",
    "    #required_energy=np.random.uniform(2.0, 6.0, size=(total_vehicles,))\n",
    "    final_energy =  0.9 * battery_capacity * np.ones((total_vehicles))\n",
    "    required_energy = np.round(final_energy-np.array(initial_state), 2)\n",
    "    #print(np.sum(required_energy))\n",
    "    dataset = {'arrival_time':arrival_time, 'depart_time':depart_time, 'initial_state':initial_state, 'required_energy': required_energy, 'final_energy':final_energy}\n",
    "    return dataset\n",
    "\n",
    "\n",
    "def ES(factor, arrival_time, depart_time, initial_state, required_energy, final_energy, power_capacity=8, max_power=0.6, decay_rate=0.06, num_steps=96, total_vehicles=100,flag=1):\n",
    "    initial_state_EDF=np.copy(initial_state)\n",
    "    u_mat=np.zeros((total_vehicles, num_steps), dtype=float)\n",
    "\n",
    "    #-5 to avoid computation infeasibility at this time\n",
    "    for t in range(int(arrival_time[0]), num_steps-2):\n",
    "        power_budget=power_capacity #Change this for variable case\n",
    "\n",
    "        #Firstly get the states\n",
    "        vehicle_ending_index = (arrival_time < t).sum()\n",
    "        step_initial_SOC = np.copy(initial_state_EDF[:vehicle_ending_index])\n",
    "        final_energy_needed = np.copy(final_energy[:vehicle_ending_index])\n",
    "        depart_schedule=np.copy(depart_time[:vehicle_ending_index])\n",
    "        u_val=np.zeros_like(step_initial_SOC)\n",
    "        index=np.argsort(depart_schedule) #sort the departure time\n",
    "        charging_sessions=0\n",
    "\n",
    "        num_active_sessions=0\n",
    "        for i in range(vehicle_ending_index):\n",
    "            if depart_schedule[i] >= t:\n",
    "                if step_initial_SOC[i] < final_energy[i]-1e-3:\n",
    "                    num_active_sessions += 1\n",
    "        #print(\"Number of active sessions\", num_active_sessions)\n",
    "        if num_active_sessions == 0:\n",
    "            num_active_sessions = 1\n",
    "        shared_power = power_capacity / num_active_sessions\n",
    "\n",
    "        for i in range(vehicle_ending_index):\n",
    "            if depart_schedule[i]>=t:\n",
    "                if step_initial_SOC[i] < final_energy[i]:\n",
    "                    u_val[i] = shared_power\n",
    "\n",
    "        updated_val = np.minimum(u_val, np.ones_like(u_val) * max_power - decay_rate * step_initial_SOC)\n",
    "        updated_val = np.minimum(updated_val, final_energy_needed-step_initial_SOC) #newly added\n",
    "        initial_state_EDF[:vehicle_ending_index] += updated_val\n",
    "        #print(f't:{t}, vehicle_ending_indx:{vehicle_ending_index}, updated_val:{len(updated_val)}, u_mat:{len(u_mat[:vehicle_ending_index,t])},{len(u_mat[:52,t])}')\n",
    "        u_mat[:vehicle_ending_index, t] = updated_val\n",
    "    stay_time = np.sum(depart_time) - np.sum(arrival_time)\n",
    "    if flag == 1: return np.sum(u_mat) - factor * stay_time\n",
    "    else: return u_mat"
   ]
  }
 ],
 "metadata": {
  "interpreter": {
   "hash": "b21ebcbde1ae205617ba79cc7daedad1cb6102881e96a88dc7c8130139a54e33"
  },
  "kernelspec": {
   "display_name": "Python 3.8.13 64-bit ('ev1': conda)",
   "name": "python3"
  },
  "language_info": {
   "codemirror_mode": {
    "name": "ipython",
    "version": 3
   },
   "file_extension": ".py",
   "mimetype": "text/x-python",
   "name": "python",
   "nbconvert_exporter": "python",
   "pygments_lexer": "ipython3",
   "version": "3.8.13"
  },
  "orig_nbformat": 4
 },
 "nbformat": 4,
 "nbformat_minor": 2
}
