{
 "cells": [
  {
   "cell_type": "code",
   "execution_count": 1,
   "metadata": {},
   "outputs": [],
   "source": [
    "import numpy as np\n",
    "import matplotlib.pyplot as plt\n",
    "from util import SimpleGA, CMAES, PEPG, OpenES\n",
    "import cma\n",
    "import random\n",
    "from scipy.special import softmax\n",
    "import collections\n",
    "import plotly.graph_objects as go"
   ]
  },
  {
   "cell_type": "code",
   "execution_count": 14,
   "metadata": {},
   "outputs": [
    {
     "data": {
      "text/plain": [
       "(0.37832, 13.216324804398393)"
      ]
     },
     "execution_count": 14,
     "metadata": {},
     "output_type": "execute_result"
    }
   ],
   "source": [
    "0.5-2.028*0.06, 5/(0.5-2.028*0.06)"
   ]
  },
  {
   "cell_type": "code",
   "execution_count": 8,
   "metadata": {},
   "outputs": [],
   "source": [
    "def charging_schedule(y, balanced_factor, P=10, T=48, N=100, B=6, maxu=0.5, beta=0, method='ES', verbose=False):\n",
    "    balanced_factor = balanced_factor\n",
    "    method = method\n",
    "\n",
    "    stay = 0\n",
    "    y = softmax(y)\n",
    "    n = y * N\n",
    "    x_init, final_energy = 0.2*B*n, 0.9*B\n",
    "    x_step = np.copy(x_init)\n",
    "    #print(n)\n",
    "    for k in range(T):\n",
    "        u = np.zeros(T)\n",
    "        V = [i for i in range(k+1) if x_step[i] <= final_energy*n[i] - 1e-3]\n",
    "        totalev = np.sum([n[i] for i in V])\n",
    "        stay += totalev\n",
    "        if method == 'fix': budget = P\n",
    "        for i in V:\n",
    "            if method == 'ES':\n",
    "                u[i] = min(min(P/totalev*n[i], n[i]*maxu), final_energy*n[i] - x_step[i])\n",
    "            elif method == 'fix':\n",
    "                u[i] = min(n[i]*maxu, final_energy*n[i] - x_step[i])\n",
    "                if budget < u[i]: \n",
    "                    u[i] = budget\n",
    "                    break\n",
    "                budget -= u[i]\n",
    "        x_step = x_step + u\n",
    "    energy = np.sum(x_step-x_init)\n",
    "    if verbose:\n",
    "        print(energy, stay)\n",
    "    return -(energy - balanced_factor*stay/N)"
   ]
  }
 ],
 "metadata": {
  "interpreter": {
   "hash": "b21ebcbde1ae205617ba79cc7daedad1cb6102881e96a88dc7c8130139a54e33"
  },
  "kernelspec": {
   "display_name": "Python 3.8.13 64-bit ('ev1': conda)",
   "name": "python3"
  },
  "language_info": {
   "codemirror_mode": {
    "name": "ipython",
    "version": 3
   },
   "file_extension": ".py",
   "mimetype": "text/x-python",
   "name": "python",
   "nbconvert_exporter": "python",
   "pygments_lexer": "ipython3",
   "version": "3.8.13"
  },
  "orig_nbformat": 4
 },
 "nbformat": 4,
 "nbformat_minor": 2
}
